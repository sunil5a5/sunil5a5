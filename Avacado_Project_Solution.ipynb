{
  "cells": [
    {
      "cell_type": "markdown",
      "metadata": {
        "id": "view-in-github",
        "colab_type": "text"
      },
      "source": [
        "<a href=\"https://colab.research.google.com/github/sunil5a5/sunil5a5/blob/main/Avacado_Project_Solution.ipynb\" target=\"_parent\"><img src=\"https://colab.research.google.com/assets/colab-badge.svg\" alt=\"Open In Colab\"/></a>"
      ]
    },
    {
      "cell_type": "markdown",
      "metadata": {
        "_uuid": "7572c338fe38bc0d04d598bdbe96ac733fdbe42a",
        "id": "TS4Y_QeNcOXq"
      },
      "source": [
        "# Avacado Prices : Descriptive Analysis\n",
        "---\n",
        "\n",
        "![avacado_full.png](attachment:df04397d-8ad8-4dac-9f6d-a4e1780fa1e9.png)\n",
        "\n",
        "<!-- <img src = '../img/avocado_full.png' width = \"60%\"> -->\n",
        "\n",
        "<!-- <img src = '../img/Screenshot_Avocado Prices.png'> -->\n",
        "\n",
        "The dataset represents weekly 2018 retail scan data for National retail volume (units) and price. Retail scan data comes directly from retailers’ cash registers based on actual retail sales of Hass avocados. The Average Price (of avocados) in the data reflects a per unit (per avocado) cost, even when multiple units (avocados) are sold in bags. The Product Lookup codes (PLU’s) in the table are only for Hass avocados. Other varieties of avocados (e.g. greenskins) are not included in this table.\n",
        "\n",
        "Some relevant columns in the dataset:\n",
        "\n",
        "- `Date` - The date of the observation\n",
        "- `AveragePrice` - the average price of a single avocado\n",
        "- `type` - conventional or organic\n",
        "- `year` - the year\n",
        "- `Region` - the city or region of the observation\n",
        "- `Total Volume` - Total number of avocados sold\n",
        "- `4046` - Total number of avocados with PLU 4046 sold\n",
        "- `4225`- Total number of avocados with PLU 4225 sold\n",
        "- `4770` - Total number of avocados with PLU 4770 sold\n",
        "\n",
        "### Pre-processing"
      ]
    },
    {
      "cell_type": "code",
      "execution_count": null,
      "metadata": {
        "_cell_guid": "b1076dfc-b9ad-4769-8c92-a6c4dae69d19",
        "_uuid": "8f2839f25d086af736a60e9eeb907d3b93b6e0e5",
        "id": "wuheiJi9cOXw"
      },
      "outputs": [],
      "source": [
        "import numpy as np # linear algebra\n",
        "import pandas as pd # data processing, CSV file I/O (e.g. pd.read_csv)\n",
        "import matplotlib.pyplot as plt # standard graphics\n",
        "import seaborn as sns # fancier graphics"
      ]
    },
    {
      "cell_type": "code",
      "execution_count": null,
      "metadata": {
        "_cell_guid": "79c7e3d0-c299-4dcb-8224-4455121ee9b0",
        "_uuid": "d629ff2d2480ee46fbb7e2d37f6b5fab8052498a",
        "id": "KQqnV3mVcOXy"
      },
      "outputs": [],
      "source": [
        "# Read the dataset\n",
        "data = pd.read_csv('avocado.csv')"
      ]
    },
    {
      "cell_type": "code",
      "execution_count": null,
      "metadata": {
        "id": "6W79vF0_cOXy",
        "outputId": "7d4d0aac-678a-44c4-c071-758244d80efe"
      },
      "outputs": [
        {
          "data": {
            "text/plain": [
              "pandas.core.frame.DataFrame"
            ]
          },
          "execution_count": 3,
          "metadata": {},
          "output_type": "execute_result"
        }
      ],
      "source": [
        "type(data)"
      ]
    },
    {
      "cell_type": "code",
      "execution_count": null,
      "metadata": {
        "_uuid": "f4a0fe609f27f548a6f69e99b9e07b5212cbf05d",
        "id": "wS6C9O-_cOX0",
        "outputId": "e455d875-78de-4949-dd50-c959703db738"
      },
      "outputs": [
        {
          "data": {
            "text/html": [
              "<div>\n",
              "<style scoped>\n",
              "    .dataframe tbody tr th:only-of-type {\n",
              "        vertical-align: middle;\n",
              "    }\n",
              "\n",
              "    .dataframe tbody tr th {\n",
              "        vertical-align: top;\n",
              "    }\n",
              "\n",
              "    .dataframe thead th {\n",
              "        text-align: right;\n",
              "    }\n",
              "</style>\n",
              "<table border=\"1\" class=\"dataframe\">\n",
              "  <thead>\n",
              "    <tr style=\"text-align: right;\">\n",
              "      <th></th>\n",
              "      <th>Unnamed: 0</th>\n",
              "      <th>Date</th>\n",
              "      <th>AveragePrice</th>\n",
              "      <th>Total Volume</th>\n",
              "      <th>4046</th>\n",
              "      <th>4225</th>\n",
              "      <th>4770</th>\n",
              "      <th>Total Bags</th>\n",
              "      <th>Small Bags</th>\n",
              "      <th>Large Bags</th>\n",
              "      <th>XLarge Bags</th>\n",
              "      <th>type</th>\n",
              "      <th>year</th>\n",
              "      <th>region</th>\n",
              "    </tr>\n",
              "  </thead>\n",
              "  <tbody>\n",
              "    <tr>\n",
              "      <th>0</th>\n",
              "      <td>0</td>\n",
              "      <td>2015-12-27</td>\n",
              "      <td>1.33</td>\n",
              "      <td>64236.62</td>\n",
              "      <td>1036.74</td>\n",
              "      <td>54454.85</td>\n",
              "      <td>48.16</td>\n",
              "      <td>8696.87</td>\n",
              "      <td>8603.62</td>\n",
              "      <td>93.25</td>\n",
              "      <td>0.0</td>\n",
              "      <td>conventional</td>\n",
              "      <td>2015</td>\n",
              "      <td>Albany</td>\n",
              "    </tr>\n",
              "    <tr>\n",
              "      <th>1</th>\n",
              "      <td>1</td>\n",
              "      <td>2015-12-20</td>\n",
              "      <td>1.35</td>\n",
              "      <td>54876.98</td>\n",
              "      <td>674.28</td>\n",
              "      <td>44638.81</td>\n",
              "      <td>58.33</td>\n",
              "      <td>9505.56</td>\n",
              "      <td>9408.07</td>\n",
              "      <td>97.49</td>\n",
              "      <td>0.0</td>\n",
              "      <td>conventional</td>\n",
              "      <td>2015</td>\n",
              "      <td>Albany</td>\n",
              "    </tr>\n",
              "    <tr>\n",
              "      <th>2</th>\n",
              "      <td>2</td>\n",
              "      <td>2015-12-13</td>\n",
              "      <td>0.93</td>\n",
              "      <td>118220.22</td>\n",
              "      <td>794.70</td>\n",
              "      <td>109149.67</td>\n",
              "      <td>130.50</td>\n",
              "      <td>8145.35</td>\n",
              "      <td>8042.21</td>\n",
              "      <td>103.14</td>\n",
              "      <td>0.0</td>\n",
              "      <td>conventional</td>\n",
              "      <td>2015</td>\n",
              "      <td>Albany</td>\n",
              "    </tr>\n",
              "    <tr>\n",
              "      <th>3</th>\n",
              "      <td>3</td>\n",
              "      <td>2015-12-06</td>\n",
              "      <td>1.08</td>\n",
              "      <td>78992.15</td>\n",
              "      <td>1132.00</td>\n",
              "      <td>71976.41</td>\n",
              "      <td>72.58</td>\n",
              "      <td>5811.16</td>\n",
              "      <td>5677.40</td>\n",
              "      <td>133.76</td>\n",
              "      <td>0.0</td>\n",
              "      <td>conventional</td>\n",
              "      <td>2015</td>\n",
              "      <td>Albany</td>\n",
              "    </tr>\n",
              "    <tr>\n",
              "      <th>4</th>\n",
              "      <td>4</td>\n",
              "      <td>2015-11-29</td>\n",
              "      <td>1.28</td>\n",
              "      <td>51039.60</td>\n",
              "      <td>941.48</td>\n",
              "      <td>43838.39</td>\n",
              "      <td>75.78</td>\n",
              "      <td>6183.95</td>\n",
              "      <td>5986.26</td>\n",
              "      <td>197.69</td>\n",
              "      <td>0.0</td>\n",
              "      <td>conventional</td>\n",
              "      <td>2015</td>\n",
              "      <td>Albany</td>\n",
              "    </tr>\n",
              "  </tbody>\n",
              "</table>\n",
              "</div>"
            ],
            "text/plain": [
              "   Unnamed: 0        Date  AveragePrice  Total Volume     4046       4225  \\\n",
              "0           0  2015-12-27          1.33      64236.62  1036.74   54454.85   \n",
              "1           1  2015-12-20          1.35      54876.98   674.28   44638.81   \n",
              "2           2  2015-12-13          0.93     118220.22   794.70  109149.67   \n",
              "3           3  2015-12-06          1.08      78992.15  1132.00   71976.41   \n",
              "4           4  2015-11-29          1.28      51039.60   941.48   43838.39   \n",
              "\n",
              "     4770  Total Bags  Small Bags  Large Bags  XLarge Bags          type  \\\n",
              "0   48.16     8696.87     8603.62       93.25          0.0  conventional   \n",
              "1   58.33     9505.56     9408.07       97.49          0.0  conventional   \n",
              "2  130.50     8145.35     8042.21      103.14          0.0  conventional   \n",
              "3   72.58     5811.16     5677.40      133.76          0.0  conventional   \n",
              "4   75.78     6183.95     5986.26      197.69          0.0  conventional   \n",
              "\n",
              "   year  region  \n",
              "0  2015  Albany  \n",
              "1  2015  Albany  \n",
              "2  2015  Albany  \n",
              "3  2015  Albany  \n",
              "4  2015  Albany  "
            ]
          },
          "execution_count": 6,
          "metadata": {},
          "output_type": "execute_result"
        }
      ],
      "source": [
        "# Show the first rows\n",
        "data.head()"
      ]
    },
    {
      "cell_type": "markdown",
      "metadata": {
        "_uuid": "7636940f6ef30d4091bdedcf042bd4db585a3c0d",
        "id": "gotnCa_YcOX0"
      },
      "source": [
        "### Clean the data"
      ]
    },
    {
      "cell_type": "markdown",
      "metadata": {
        "_uuid": "c6ee0c34c1873059bdaafd8815586edd5801d279",
        "id": "F1oxwvb5cOX1"
      },
      "source": [
        "The first column is an index, so drop it out"
      ]
    },
    {
      "cell_type": "code",
      "execution_count": null,
      "metadata": {
        "_uuid": "faea02e6b2449c9ea8f06414f0da5b9bbfca4f3e",
        "id": "E8lIWbZYcOX2",
        "outputId": "c50d3279-2905-4e88-d9de-ab4d8c43f795"
      },
      "outputs": [
        {
          "data": {
            "text/html": [
              "<div>\n",
              "<style scoped>\n",
              "    .dataframe tbody tr th:only-of-type {\n",
              "        vertical-align: middle;\n",
              "    }\n",
              "\n",
              "    .dataframe tbody tr th {\n",
              "        vertical-align: top;\n",
              "    }\n",
              "\n",
              "    .dataframe thead th {\n",
              "        text-align: right;\n",
              "    }\n",
              "</style>\n",
              "<table border=\"1\" class=\"dataframe\">\n",
              "  <thead>\n",
              "    <tr style=\"text-align: right;\">\n",
              "      <th></th>\n",
              "      <th>Date</th>\n",
              "      <th>AveragePrice</th>\n",
              "      <th>Total Volume</th>\n",
              "      <th>4046</th>\n",
              "      <th>4225</th>\n",
              "      <th>4770</th>\n",
              "      <th>Total Bags</th>\n",
              "      <th>Small Bags</th>\n",
              "      <th>Large Bags</th>\n",
              "      <th>XLarge Bags</th>\n",
              "      <th>type</th>\n",
              "      <th>year</th>\n",
              "      <th>region</th>\n",
              "    </tr>\n",
              "  </thead>\n",
              "  <tbody>\n",
              "    <tr>\n",
              "      <th>0</th>\n",
              "      <td>2015-12-27</td>\n",
              "      <td>1.33</td>\n",
              "      <td>64236.62</td>\n",
              "      <td>1036.74</td>\n",
              "      <td>54454.85</td>\n",
              "      <td>48.16</td>\n",
              "      <td>8696.87</td>\n",
              "      <td>8603.62</td>\n",
              "      <td>93.25</td>\n",
              "      <td>0.0</td>\n",
              "      <td>conventional</td>\n",
              "      <td>2015</td>\n",
              "      <td>Albany</td>\n",
              "    </tr>\n",
              "    <tr>\n",
              "      <th>1</th>\n",
              "      <td>2015-12-20</td>\n",
              "      <td>1.35</td>\n",
              "      <td>54876.98</td>\n",
              "      <td>674.28</td>\n",
              "      <td>44638.81</td>\n",
              "      <td>58.33</td>\n",
              "      <td>9505.56</td>\n",
              "      <td>9408.07</td>\n",
              "      <td>97.49</td>\n",
              "      <td>0.0</td>\n",
              "      <td>conventional</td>\n",
              "      <td>2015</td>\n",
              "      <td>Albany</td>\n",
              "    </tr>\n",
              "    <tr>\n",
              "      <th>2</th>\n",
              "      <td>2015-12-13</td>\n",
              "      <td>0.93</td>\n",
              "      <td>118220.22</td>\n",
              "      <td>794.70</td>\n",
              "      <td>109149.67</td>\n",
              "      <td>130.50</td>\n",
              "      <td>8145.35</td>\n",
              "      <td>8042.21</td>\n",
              "      <td>103.14</td>\n",
              "      <td>0.0</td>\n",
              "      <td>conventional</td>\n",
              "      <td>2015</td>\n",
              "      <td>Albany</td>\n",
              "    </tr>\n",
              "    <tr>\n",
              "      <th>3</th>\n",
              "      <td>2015-12-06</td>\n",
              "      <td>1.08</td>\n",
              "      <td>78992.15</td>\n",
              "      <td>1132.00</td>\n",
              "      <td>71976.41</td>\n",
              "      <td>72.58</td>\n",
              "      <td>5811.16</td>\n",
              "      <td>5677.40</td>\n",
              "      <td>133.76</td>\n",
              "      <td>0.0</td>\n",
              "      <td>conventional</td>\n",
              "      <td>2015</td>\n",
              "      <td>Albany</td>\n",
              "    </tr>\n",
              "    <tr>\n",
              "      <th>4</th>\n",
              "      <td>2015-11-29</td>\n",
              "      <td>1.28</td>\n",
              "      <td>51039.60</td>\n",
              "      <td>941.48</td>\n",
              "      <td>43838.39</td>\n",
              "      <td>75.78</td>\n",
              "      <td>6183.95</td>\n",
              "      <td>5986.26</td>\n",
              "      <td>197.69</td>\n",
              "      <td>0.0</td>\n",
              "      <td>conventional</td>\n",
              "      <td>2015</td>\n",
              "      <td>Albany</td>\n",
              "    </tr>\n",
              "  </tbody>\n",
              "</table>\n",
              "</div>"
            ],
            "text/plain": [
              "         Date  AveragePrice  Total Volume     4046       4225    4770  \\\n",
              "0  2015-12-27          1.33      64236.62  1036.74   54454.85   48.16   \n",
              "1  2015-12-20          1.35      54876.98   674.28   44638.81   58.33   \n",
              "2  2015-12-13          0.93     118220.22   794.70  109149.67  130.50   \n",
              "3  2015-12-06          1.08      78992.15  1132.00   71976.41   72.58   \n",
              "4  2015-11-29          1.28      51039.60   941.48   43838.39   75.78   \n",
              "\n",
              "   Total Bags  Small Bags  Large Bags  XLarge Bags          type  year  region  \n",
              "0     8696.87     8603.62       93.25          0.0  conventional  2015  Albany  \n",
              "1     9505.56     9408.07       97.49          0.0  conventional  2015  Albany  \n",
              "2     8145.35     8042.21      103.14          0.0  conventional  2015  Albany  \n",
              "3     5811.16     5677.40      133.76          0.0  conventional  2015  Albany  \n",
              "4     6183.95     5986.26      197.69          0.0  conventional  2015  Albany  "
            ]
          },
          "execution_count": 7,
          "metadata": {},
          "output_type": "execute_result"
        }
      ],
      "source": [
        "data = data.drop(columns = 'Unnamed: 0')\n",
        "data.head()"
      ]
    },
    {
      "cell_type": "code",
      "execution_count": null,
      "metadata": {
        "_uuid": "9e9ad8138988db4bdd6e59d0f2132bd55ccd088a",
        "id": "fn3-gSYRcOX2",
        "outputId": "da1521bd-e40a-4918-a7aa-769f27e54db3"
      },
      "outputs": [
        {
          "name": "stdout",
          "output_type": "stream",
          "text": [
            "<class 'pandas.core.frame.DataFrame'>\n",
            "RangeIndex: 18249 entries, 0 to 18248\n",
            "Data columns (total 13 columns):\n",
            " #   Column        Non-Null Count  Dtype  \n",
            "---  ------        --------------  -----  \n",
            " 0   Date          18249 non-null  object \n",
            " 1   AveragePrice  18249 non-null  float64\n",
            " 2   Total Volume  18249 non-null  float64\n",
            " 3   4046          18249 non-null  float64\n",
            " 4   4225          18249 non-null  float64\n",
            " 5   4770          18249 non-null  float64\n",
            " 6   Total Bags    18249 non-null  float64\n",
            " 7   Small Bags    18249 non-null  float64\n",
            " 8   Large Bags    18249 non-null  float64\n",
            " 9   XLarge Bags   18249 non-null  float64\n",
            " 10  type          18249 non-null  object \n",
            " 11  year          18249 non-null  int64  \n",
            " 12  region        18249 non-null  object \n",
            "dtypes: float64(9), int64(1), object(3)\n",
            "memory usage: 1.8+ MB\n"
          ]
        }
      ],
      "source": [
        "data.info()"
      ]
    },
    {
      "cell_type": "markdown",
      "metadata": {
        "_uuid": "dbedb2ab2b885db959343bd4fab929683a0210c2",
        "id": "ddX6K1ZccOX3"
      },
      "source": [
        "What are 4046, 4225 and 4770?\n",
        "\n",
        "Reading of avocado varieties: https://producebrands.com/the-avocado/ gives explanations:\n",
        "- 4046 = Hass – small\n",
        "- 4225 = Hass – large\n",
        "- 4770 = Hass Extra Large\n",
        "\n",
        "We rename the columns accordingly.\n"
      ]
    },
    {
      "cell_type": "code",
      "execution_count": null,
      "metadata": {
        "_uuid": "02488247fc83804e8692cddbdca553233c8b6314",
        "scrolled": true,
        "id": "5epvwRpacOX3",
        "outputId": "0603ef3b-6997-4dd8-a173-1a9d6da40154"
      },
      "outputs": [
        {
          "data": {
            "text/html": [
              "<div>\n",
              "<style scoped>\n",
              "    .dataframe tbody tr th:only-of-type {\n",
              "        vertical-align: middle;\n",
              "    }\n",
              "\n",
              "    .dataframe tbody tr th {\n",
              "        vertical-align: top;\n",
              "    }\n",
              "\n",
              "    .dataframe thead th {\n",
              "        text-align: right;\n",
              "    }\n",
              "</style>\n",
              "<table border=\"1\" class=\"dataframe\">\n",
              "  <thead>\n",
              "    <tr style=\"text-align: right;\">\n",
              "      <th></th>\n",
              "      <th>Date</th>\n",
              "      <th>AveragePrice</th>\n",
              "      <th>Total Volume</th>\n",
              "      <th>small</th>\n",
              "      <th>large</th>\n",
              "      <th>xl</th>\n",
              "      <th>Total Bags</th>\n",
              "      <th>Small Bags</th>\n",
              "      <th>Large Bags</th>\n",
              "      <th>XLarge Bags</th>\n",
              "      <th>type</th>\n",
              "      <th>year</th>\n",
              "      <th>region</th>\n",
              "    </tr>\n",
              "  </thead>\n",
              "  <tbody>\n",
              "    <tr>\n",
              "      <th>0</th>\n",
              "      <td>2015-12-27</td>\n",
              "      <td>1.33</td>\n",
              "      <td>64236.62</td>\n",
              "      <td>1036.74</td>\n",
              "      <td>54454.85</td>\n",
              "      <td>48.16</td>\n",
              "      <td>8696.87</td>\n",
              "      <td>8603.62</td>\n",
              "      <td>93.25</td>\n",
              "      <td>0.0</td>\n",
              "      <td>conventional</td>\n",
              "      <td>2015</td>\n",
              "      <td>Albany</td>\n",
              "    </tr>\n",
              "    <tr>\n",
              "      <th>1</th>\n",
              "      <td>2015-12-20</td>\n",
              "      <td>1.35</td>\n",
              "      <td>54876.98</td>\n",
              "      <td>674.28</td>\n",
              "      <td>44638.81</td>\n",
              "      <td>58.33</td>\n",
              "      <td>9505.56</td>\n",
              "      <td>9408.07</td>\n",
              "      <td>97.49</td>\n",
              "      <td>0.0</td>\n",
              "      <td>conventional</td>\n",
              "      <td>2015</td>\n",
              "      <td>Albany</td>\n",
              "    </tr>\n",
              "    <tr>\n",
              "      <th>2</th>\n",
              "      <td>2015-12-13</td>\n",
              "      <td>0.93</td>\n",
              "      <td>118220.22</td>\n",
              "      <td>794.70</td>\n",
              "      <td>109149.67</td>\n",
              "      <td>130.50</td>\n",
              "      <td>8145.35</td>\n",
              "      <td>8042.21</td>\n",
              "      <td>103.14</td>\n",
              "      <td>0.0</td>\n",
              "      <td>conventional</td>\n",
              "      <td>2015</td>\n",
              "      <td>Albany</td>\n",
              "    </tr>\n",
              "    <tr>\n",
              "      <th>3</th>\n",
              "      <td>2015-12-06</td>\n",
              "      <td>1.08</td>\n",
              "      <td>78992.15</td>\n",
              "      <td>1132.00</td>\n",
              "      <td>71976.41</td>\n",
              "      <td>72.58</td>\n",
              "      <td>5811.16</td>\n",
              "      <td>5677.40</td>\n",
              "      <td>133.76</td>\n",
              "      <td>0.0</td>\n",
              "      <td>conventional</td>\n",
              "      <td>2015</td>\n",
              "      <td>Albany</td>\n",
              "    </tr>\n",
              "    <tr>\n",
              "      <th>4</th>\n",
              "      <td>2015-11-29</td>\n",
              "      <td>1.28</td>\n",
              "      <td>51039.60</td>\n",
              "      <td>941.48</td>\n",
              "      <td>43838.39</td>\n",
              "      <td>75.78</td>\n",
              "      <td>6183.95</td>\n",
              "      <td>5986.26</td>\n",
              "      <td>197.69</td>\n",
              "      <td>0.0</td>\n",
              "      <td>conventional</td>\n",
              "      <td>2015</td>\n",
              "      <td>Albany</td>\n",
              "    </tr>\n",
              "  </tbody>\n",
              "</table>\n",
              "</div>"
            ],
            "text/plain": [
              "         Date  AveragePrice  Total Volume    small      large      xl  \\\n",
              "0  2015-12-27          1.33      64236.62  1036.74   54454.85   48.16   \n",
              "1  2015-12-20          1.35      54876.98   674.28   44638.81   58.33   \n",
              "2  2015-12-13          0.93     118220.22   794.70  109149.67  130.50   \n",
              "3  2015-12-06          1.08      78992.15  1132.00   71976.41   72.58   \n",
              "4  2015-11-29          1.28      51039.60   941.48   43838.39   75.78   \n",
              "\n",
              "   Total Bags  Small Bags  Large Bags  XLarge Bags          type  year  region  \n",
              "0     8696.87     8603.62       93.25          0.0  conventional  2015  Albany  \n",
              "1     9505.56     9408.07       97.49          0.0  conventional  2015  Albany  \n",
              "2     8145.35     8042.21      103.14          0.0  conventional  2015  Albany  \n",
              "3     5811.16     5677.40      133.76          0.0  conventional  2015  Albany  \n",
              "4     6183.95     5986.26      197.69          0.0  conventional  2015  Albany  "
            ]
          },
          "execution_count": 9,
          "metadata": {},
          "output_type": "execute_result"
        }
      ],
      "source": [
        "data = data.rename(columns = {'4046': 'small', '4225': 'large', '4770': 'xl'})\n",
        "data.head()"
      ]
    },
    {
      "cell_type": "code",
      "execution_count": null,
      "metadata": {
        "_uuid": "e1294f7bdded4c31e3cf64b92c912d7d547a7881",
        "id": "UEzUxg2YcOX4",
        "outputId": "17c3a2ea-ac48-4dd2-b128-62921512587f"
      },
      "outputs": [
        {
          "data": {
            "text/html": [
              "<div>\n",
              "<style scoped>\n",
              "    .dataframe tbody tr th:only-of-type {\n",
              "        vertical-align: middle;\n",
              "    }\n",
              "\n",
              "    .dataframe tbody tr th {\n",
              "        vertical-align: top;\n",
              "    }\n",
              "\n",
              "    .dataframe thead th {\n",
              "        text-align: right;\n",
              "    }\n",
              "</style>\n",
              "<table border=\"1\" class=\"dataframe\">\n",
              "  <thead>\n",
              "    <tr style=\"text-align: right;\">\n",
              "      <th></th>\n",
              "      <th>Date</th>\n",
              "      <th>AveragePrice</th>\n",
              "      <th>Total Volume</th>\n",
              "      <th>small</th>\n",
              "      <th>large</th>\n",
              "      <th>xl</th>\n",
              "      <th>Total Bags</th>\n",
              "      <th>Small Bags</th>\n",
              "      <th>Large Bags</th>\n",
              "      <th>XLarge Bags</th>\n",
              "      <th>type</th>\n",
              "      <th>year</th>\n",
              "      <th>region</th>\n",
              "    </tr>\n",
              "  </thead>\n",
              "  <tbody>\n",
              "    <tr>\n",
              "      <th>18244</th>\n",
              "      <td>2018-02-04</td>\n",
              "      <td>1.63</td>\n",
              "      <td>17074.83</td>\n",
              "      <td>2046.96</td>\n",
              "      <td>1529.20</td>\n",
              "      <td>0.00</td>\n",
              "      <td>13498.67</td>\n",
              "      <td>13066.82</td>\n",
              "      <td>431.85</td>\n",
              "      <td>0.0</td>\n",
              "      <td>organic</td>\n",
              "      <td>2018</td>\n",
              "      <td>WestTexNewMexico</td>\n",
              "    </tr>\n",
              "    <tr>\n",
              "      <th>18245</th>\n",
              "      <td>2018-01-28</td>\n",
              "      <td>1.71</td>\n",
              "      <td>13888.04</td>\n",
              "      <td>1191.70</td>\n",
              "      <td>3431.50</td>\n",
              "      <td>0.00</td>\n",
              "      <td>9264.84</td>\n",
              "      <td>8940.04</td>\n",
              "      <td>324.80</td>\n",
              "      <td>0.0</td>\n",
              "      <td>organic</td>\n",
              "      <td>2018</td>\n",
              "      <td>WestTexNewMexico</td>\n",
              "    </tr>\n",
              "    <tr>\n",
              "      <th>18246</th>\n",
              "      <td>2018-01-21</td>\n",
              "      <td>1.87</td>\n",
              "      <td>13766.76</td>\n",
              "      <td>1191.92</td>\n",
              "      <td>2452.79</td>\n",
              "      <td>727.94</td>\n",
              "      <td>9394.11</td>\n",
              "      <td>9351.80</td>\n",
              "      <td>42.31</td>\n",
              "      <td>0.0</td>\n",
              "      <td>organic</td>\n",
              "      <td>2018</td>\n",
              "      <td>WestTexNewMexico</td>\n",
              "    </tr>\n",
              "    <tr>\n",
              "      <th>18247</th>\n",
              "      <td>2018-01-14</td>\n",
              "      <td>1.93</td>\n",
              "      <td>16205.22</td>\n",
              "      <td>1527.63</td>\n",
              "      <td>2981.04</td>\n",
              "      <td>727.01</td>\n",
              "      <td>10969.54</td>\n",
              "      <td>10919.54</td>\n",
              "      <td>50.00</td>\n",
              "      <td>0.0</td>\n",
              "      <td>organic</td>\n",
              "      <td>2018</td>\n",
              "      <td>WestTexNewMexico</td>\n",
              "    </tr>\n",
              "    <tr>\n",
              "      <th>18248</th>\n",
              "      <td>2018-01-07</td>\n",
              "      <td>1.62</td>\n",
              "      <td>17489.58</td>\n",
              "      <td>2894.77</td>\n",
              "      <td>2356.13</td>\n",
              "      <td>224.53</td>\n",
              "      <td>12014.15</td>\n",
              "      <td>11988.14</td>\n",
              "      <td>26.01</td>\n",
              "      <td>0.0</td>\n",
              "      <td>organic</td>\n",
              "      <td>2018</td>\n",
              "      <td>WestTexNewMexico</td>\n",
              "    </tr>\n",
              "  </tbody>\n",
              "</table>\n",
              "</div>"
            ],
            "text/plain": [
              "             Date  AveragePrice  Total Volume    small    large      xl  \\\n",
              "18244  2018-02-04          1.63      17074.83  2046.96  1529.20    0.00   \n",
              "18245  2018-01-28          1.71      13888.04  1191.70  3431.50    0.00   \n",
              "18246  2018-01-21          1.87      13766.76  1191.92  2452.79  727.94   \n",
              "18247  2018-01-14          1.93      16205.22  1527.63  2981.04  727.01   \n",
              "18248  2018-01-07          1.62      17489.58  2894.77  2356.13  224.53   \n",
              "\n",
              "       Total Bags  Small Bags  Large Bags  XLarge Bags     type  year  \\\n",
              "18244    13498.67    13066.82      431.85          0.0  organic  2018   \n",
              "18245     9264.84     8940.04      324.80          0.0  organic  2018   \n",
              "18246     9394.11     9351.80       42.31          0.0  organic  2018   \n",
              "18247    10969.54    10919.54       50.00          0.0  organic  2018   \n",
              "18248    12014.15    11988.14       26.01          0.0  organic  2018   \n",
              "\n",
              "                 region  \n",
              "18244  WestTexNewMexico  \n",
              "18245  WestTexNewMexico  \n",
              "18246  WestTexNewMexico  \n",
              "18247  WestTexNewMexico  \n",
              "18248  WestTexNewMexico  "
            ]
          },
          "execution_count": 10,
          "metadata": {},
          "output_type": "execute_result"
        }
      ],
      "source": [
        "# Show the last rows\n",
        "data.tail()"
      ]
    },
    {
      "cell_type": "markdown",
      "metadata": {
        "_uuid": "6e5728b38c7ecc6d053da3009662aa7512f6b94c",
        "id": "UBAR4guucOX5"
      },
      "source": [
        "---\n",
        "\n",
        "# Descriptive Statistics"
      ]
    },
    {
      "cell_type": "code",
      "execution_count": null,
      "metadata": {
        "id": "YKy7BmercOX5",
        "outputId": "a23f9744-2e44-4a25-d7d6-946ff6a29127"
      },
      "outputs": [
        {
          "data": {
            "text/plain": [
              "(18249, 13)"
            ]
          },
          "execution_count": 11,
          "metadata": {},
          "output_type": "execute_result"
        }
      ],
      "source": [
        "# rows, columns\n",
        "data.shape"
      ]
    },
    {
      "cell_type": "code",
      "execution_count": null,
      "metadata": {
        "id": "euhePu_EcOX6",
        "outputId": "53fe5843-99fc-4c3f-c35a-9d5618dd000f"
      },
      "outputs": [
        {
          "data": {
            "text/plain": [
              "Index(['Date', 'AveragePrice', 'Total Volume', 'small', 'large', 'xl',\n",
              "       'Total Bags', 'Small Bags', 'Large Bags', 'XLarge Bags', 'type', 'year',\n",
              "       'region'],\n",
              "      dtype='object')"
            ]
          },
          "execution_count": 12,
          "metadata": {},
          "output_type": "execute_result"
        }
      ],
      "source": [
        "data.columns"
      ]
    },
    {
      "cell_type": "code",
      "execution_count": null,
      "metadata": {
        "id": "SVSJG_2ccOX6",
        "outputId": "2e92bc7b-40b5-4e51-b6f8-b97635f0dec1"
      },
      "outputs": [
        {
          "data": {
            "text/plain": [
              "Date            0\n",
              "AveragePrice    0\n",
              "Total Volume    0\n",
              "small           0\n",
              "large           0\n",
              "xl              0\n",
              "Total Bags      0\n",
              "Small Bags      0\n",
              "Large Bags      0\n",
              "XLarge Bags     0\n",
              "type            0\n",
              "year            0\n",
              "region          0\n",
              "dtype: int64"
            ]
          },
          "execution_count": 16,
          "metadata": {},
          "output_type": "execute_result"
        }
      ],
      "source": [
        "data.isnull().sum()"
      ]
    },
    {
      "cell_type": "code",
      "execution_count": null,
      "metadata": {
        "id": "GaKX02OtcOX7",
        "outputId": "e1421fff-f4df-4876-d6e7-f88b0afe67b7"
      },
      "outputs": [
        {
          "data": {
            "text/html": [
              "<div>\n",
              "<style scoped>\n",
              "    .dataframe tbody tr th:only-of-type {\n",
              "        vertical-align: middle;\n",
              "    }\n",
              "\n",
              "    .dataframe tbody tr th {\n",
              "        vertical-align: top;\n",
              "    }\n",
              "\n",
              "    .dataframe thead th {\n",
              "        text-align: right;\n",
              "    }\n",
              "</style>\n",
              "<table border=\"1\" class=\"dataframe\">\n",
              "  <thead>\n",
              "    <tr style=\"text-align: right;\">\n",
              "      <th></th>\n",
              "      <th>AveragePrice</th>\n",
              "      <th>Total Volume</th>\n",
              "      <th>small</th>\n",
              "      <th>large</th>\n",
              "      <th>xl</th>\n",
              "      <th>Total Bags</th>\n",
              "      <th>Small Bags</th>\n",
              "      <th>Large Bags</th>\n",
              "      <th>XLarge Bags</th>\n",
              "      <th>year</th>\n",
              "    </tr>\n",
              "  </thead>\n",
              "  <tbody>\n",
              "    <tr>\n",
              "      <th>count</th>\n",
              "      <td>18249.000000</td>\n",
              "      <td>1.824900e+04</td>\n",
              "      <td>1.824900e+04</td>\n",
              "      <td>1.824900e+04</td>\n",
              "      <td>1.824900e+04</td>\n",
              "      <td>1.824900e+04</td>\n",
              "      <td>1.824900e+04</td>\n",
              "      <td>1.824900e+04</td>\n",
              "      <td>18249.000000</td>\n",
              "      <td>18249.000000</td>\n",
              "    </tr>\n",
              "    <tr>\n",
              "      <th>mean</th>\n",
              "      <td>1.405978</td>\n",
              "      <td>8.506440e+05</td>\n",
              "      <td>2.930084e+05</td>\n",
              "      <td>2.951546e+05</td>\n",
              "      <td>2.283974e+04</td>\n",
              "      <td>2.396392e+05</td>\n",
              "      <td>1.821947e+05</td>\n",
              "      <td>5.433809e+04</td>\n",
              "      <td>3106.426507</td>\n",
              "      <td>2016.147899</td>\n",
              "    </tr>\n",
              "    <tr>\n",
              "      <th>std</th>\n",
              "      <td>0.402677</td>\n",
              "      <td>3.453545e+06</td>\n",
              "      <td>1.264989e+06</td>\n",
              "      <td>1.204120e+06</td>\n",
              "      <td>1.074641e+05</td>\n",
              "      <td>9.862424e+05</td>\n",
              "      <td>7.461785e+05</td>\n",
              "      <td>2.439660e+05</td>\n",
              "      <td>17692.894652</td>\n",
              "      <td>0.939938</td>\n",
              "    </tr>\n",
              "    <tr>\n",
              "      <th>min</th>\n",
              "      <td>0.440000</td>\n",
              "      <td>8.456000e+01</td>\n",
              "      <td>0.000000e+00</td>\n",
              "      <td>0.000000e+00</td>\n",
              "      <td>0.000000e+00</td>\n",
              "      <td>0.000000e+00</td>\n",
              "      <td>0.000000e+00</td>\n",
              "      <td>0.000000e+00</td>\n",
              "      <td>0.000000</td>\n",
              "      <td>2015.000000</td>\n",
              "    </tr>\n",
              "    <tr>\n",
              "      <th>25%</th>\n",
              "      <td>1.100000</td>\n",
              "      <td>1.083858e+04</td>\n",
              "      <td>8.540700e+02</td>\n",
              "      <td>3.008780e+03</td>\n",
              "      <td>0.000000e+00</td>\n",
              "      <td>5.088640e+03</td>\n",
              "      <td>2.849420e+03</td>\n",
              "      <td>1.274700e+02</td>\n",
              "      <td>0.000000</td>\n",
              "      <td>2015.000000</td>\n",
              "    </tr>\n",
              "    <tr>\n",
              "      <th>50%</th>\n",
              "      <td>1.370000</td>\n",
              "      <td>1.073768e+05</td>\n",
              "      <td>8.645300e+03</td>\n",
              "      <td>2.906102e+04</td>\n",
              "      <td>1.849900e+02</td>\n",
              "      <td>3.974383e+04</td>\n",
              "      <td>2.636282e+04</td>\n",
              "      <td>2.647710e+03</td>\n",
              "      <td>0.000000</td>\n",
              "      <td>2016.000000</td>\n",
              "    </tr>\n",
              "    <tr>\n",
              "      <th>75%</th>\n",
              "      <td>1.660000</td>\n",
              "      <td>4.329623e+05</td>\n",
              "      <td>1.110202e+05</td>\n",
              "      <td>1.502069e+05</td>\n",
              "      <td>6.243420e+03</td>\n",
              "      <td>1.107834e+05</td>\n",
              "      <td>8.333767e+04</td>\n",
              "      <td>2.202925e+04</td>\n",
              "      <td>132.500000</td>\n",
              "      <td>2017.000000</td>\n",
              "    </tr>\n",
              "    <tr>\n",
              "      <th>max</th>\n",
              "      <td>3.250000</td>\n",
              "      <td>6.250565e+07</td>\n",
              "      <td>2.274362e+07</td>\n",
              "      <td>2.047057e+07</td>\n",
              "      <td>2.546439e+06</td>\n",
              "      <td>1.937313e+07</td>\n",
              "      <td>1.338459e+07</td>\n",
              "      <td>5.719097e+06</td>\n",
              "      <td>551693.650000</td>\n",
              "      <td>2018.000000</td>\n",
              "    </tr>\n",
              "  </tbody>\n",
              "</table>\n",
              "</div>"
            ],
            "text/plain": [
              "       AveragePrice  Total Volume         small         large            xl  \\\n",
              "count  18249.000000  1.824900e+04  1.824900e+04  1.824900e+04  1.824900e+04   \n",
              "mean       1.405978  8.506440e+05  2.930084e+05  2.951546e+05  2.283974e+04   \n",
              "std        0.402677  3.453545e+06  1.264989e+06  1.204120e+06  1.074641e+05   \n",
              "min        0.440000  8.456000e+01  0.000000e+00  0.000000e+00  0.000000e+00   \n",
              "25%        1.100000  1.083858e+04  8.540700e+02  3.008780e+03  0.000000e+00   \n",
              "50%        1.370000  1.073768e+05  8.645300e+03  2.906102e+04  1.849900e+02   \n",
              "75%        1.660000  4.329623e+05  1.110202e+05  1.502069e+05  6.243420e+03   \n",
              "max        3.250000  6.250565e+07  2.274362e+07  2.047057e+07  2.546439e+06   \n",
              "\n",
              "         Total Bags    Small Bags    Large Bags    XLarge Bags          year  \n",
              "count  1.824900e+04  1.824900e+04  1.824900e+04   18249.000000  18249.000000  \n",
              "mean   2.396392e+05  1.821947e+05  5.433809e+04    3106.426507   2016.147899  \n",
              "std    9.862424e+05  7.461785e+05  2.439660e+05   17692.894652      0.939938  \n",
              "min    0.000000e+00  0.000000e+00  0.000000e+00       0.000000   2015.000000  \n",
              "25%    5.088640e+03  2.849420e+03  1.274700e+02       0.000000   2015.000000  \n",
              "50%    3.974383e+04  2.636282e+04  2.647710e+03       0.000000   2016.000000  \n",
              "75%    1.107834e+05  8.333767e+04  2.202925e+04     132.500000   2017.000000  \n",
              "max    1.937313e+07  1.338459e+07  5.719097e+06  551693.650000   2018.000000  "
            ]
          },
          "execution_count": 14,
          "metadata": {},
          "output_type": "execute_result"
        }
      ],
      "source": [
        "# Show the descriptive statistics using describe()\n",
        "\n",
        "data.describe()"
      ]
    },
    {
      "cell_type": "code",
      "execution_count": null,
      "metadata": {
        "_uuid": "621c19615155b33b7e95b3ebf8e35f5114355688",
        "id": "1p4yOOlYcOX7",
        "outputId": "df536a4c-1f40-4253-b9f0-96b6f332b1fc"
      },
      "outputs": [
        {
          "data": {
            "text/plain": [
              "1.405978409775878"
            ]
          },
          "execution_count": 25,
          "metadata": {},
          "output_type": "execute_result"
        }
      ],
      "source": [
        "# What is the mean AveragePrice? (notice that there is a column of named 'AveragePrice')\n",
        "\n",
        "data['AveragePrice'].mean()"
      ]
    },
    {
      "cell_type": "code",
      "execution_count": null,
      "metadata": {
        "_uuid": "ea3ec20816d75cce75b3deaeca4af6cb97445f74",
        "id": "5TFp6btwcOX7",
        "outputId": "7904d41c-4940-4069-836c-9113b7dd5240"
      },
      "outputs": [
        {
          "name": "stdout",
          "output_type": "stream",
          "text": [
            "Mean value of AveragePrice =  1.41\n"
          ]
        }
      ],
      "source": [
        "### Print the mean with two decimals only\n",
        "#Hint: use round()\n",
        "\n",
        "m = data['AveragePrice'].mean()\n",
        "print('Mean value of AveragePrice = ', round(m,2))"
      ]
    },
    {
      "cell_type": "code",
      "execution_count": null,
      "metadata": {
        "_uuid": "eb7bb60574868bf5c3dd9efc2bca7e36cf95da8d",
        "id": "vlXp7-NhcOX8",
        "outputId": "d334574a-e13d-46d9-8047-4456454557b0"
      },
      "outputs": [
        {
          "name": "stdout",
          "output_type": "stream",
          "text": [
            "Standard Deviation of AveragePrice =  1.41\n"
          ]
        }
      ],
      "source": [
        "# What is the standard deviation of Average Price?\n",
        "\n",
        "s = data['AveragePrice'].std()\n",
        "print('Standard Deviation of AveragePrice = ', round(m,2))"
      ]
    },
    {
      "cell_type": "code",
      "execution_count": null,
      "metadata": {
        "_uuid": "a92bcb1a3b7f1af1bb62bc9e72cefb396611df13",
        "id": "fG9hJ2l3cOX8"
      },
      "outputs": [],
      "source": [
        "# Printing the standard deviation of Average Price with two decimals only\n",
        "# print('Standard deviation of Average Price = ',round(s,2))."
      ]
    },
    {
      "cell_type": "markdown",
      "metadata": {
        "_uuid": "fa9d018ccb90b19d2679e0b702e19425f0496e57",
        "id": "S5V365CLcOX9"
      },
      "source": [
        "If we compare the `data.head()` and `data.describe()`, we notice that 'type' and 'region' columns were dropped out from the descriptive statistics table as they were text (or categorical data). However, we can study how many unique values these variables contain and the distribution of the values."
      ]
    },
    {
      "cell_type": "code",
      "execution_count": null,
      "metadata": {
        "_uuid": "8692d37950aeffa10d11d2ef27eb69f60065936d",
        "id": "MOpJFa63cOX9",
        "outputId": "20f0e2cb-5226-4d52-de61-3f99d76e2a26"
      },
      "outputs": [
        {
          "data": {
            "text/plain": [
              "array(['conventional', 'organic'], dtype=object)"
            ]
          },
          "execution_count": 28,
          "metadata": {},
          "output_type": "execute_result"
        }
      ],
      "source": [
        "# What are the unique type values?\n",
        "\n",
        "data['type'].unique()"
      ]
    },
    {
      "cell_type": "code",
      "execution_count": null,
      "metadata": {
        "_uuid": "16b3a72abce5fa4e78e6e3aa0f6f2a4e0ca78ce3",
        "id": "Ttf_gBiWcOX-",
        "outputId": "e94d644a-3016-43ae-eea1-42a89d29c113"
      },
      "outputs": [
        {
          "data": {
            "text/plain": [
              "type\n",
              "conventional    9126\n",
              "organic         9123\n",
              "Name: count, dtype: int64"
            ]
          },
          "execution_count": 29,
          "metadata": {},
          "output_type": "execute_result"
        }
      ],
      "source": [
        "# How many rows i.e., observations there are for each type?\n",
        "\n",
        "data['type'].value_counts()"
      ]
    },
    {
      "cell_type": "code",
      "execution_count": null,
      "metadata": {
        "_uuid": "a62c96cf1e675207f91f7892d8160f4d89b404f2",
        "id": "eL44Y1M1cOX-",
        "outputId": "4ac7e6cb-46cd-4dac-b5d5-5e67a46448ea"
      },
      "outputs": [
        {
          "data": {
            "text/html": [
              "<div>\n",
              "<style scoped>\n",
              "    .dataframe tbody tr th:only-of-type {\n",
              "        vertical-align: middle;\n",
              "    }\n",
              "\n",
              "    .dataframe tbody tr th {\n",
              "        vertical-align: top;\n",
              "    }\n",
              "\n",
              "    .dataframe thead tr th {\n",
              "        text-align: left;\n",
              "    }\n",
              "\n",
              "    .dataframe thead tr:last-of-type th {\n",
              "        text-align: right;\n",
              "    }\n",
              "</style>\n",
              "<table border=\"1\" class=\"dataframe\">\n",
              "  <thead>\n",
              "    <tr>\n",
              "      <th></th>\n",
              "      <th colspan=\"8\" halign=\"left\">AveragePrice</th>\n",
              "      <th colspan=\"2\" halign=\"left\">Total Volume</th>\n",
              "      <th>...</th>\n",
              "      <th colspan=\"2\" halign=\"left\">XLarge Bags</th>\n",
              "      <th colspan=\"8\" halign=\"left\">year</th>\n",
              "    </tr>\n",
              "    <tr>\n",
              "      <th></th>\n",
              "      <th>count</th>\n",
              "      <th>mean</th>\n",
              "      <th>std</th>\n",
              "      <th>min</th>\n",
              "      <th>25%</th>\n",
              "      <th>50%</th>\n",
              "      <th>75%</th>\n",
              "      <th>max</th>\n",
              "      <th>count</th>\n",
              "      <th>mean</th>\n",
              "      <th>...</th>\n",
              "      <th>75%</th>\n",
              "      <th>max</th>\n",
              "      <th>count</th>\n",
              "      <th>mean</th>\n",
              "      <th>std</th>\n",
              "      <th>min</th>\n",
              "      <th>25%</th>\n",
              "      <th>50%</th>\n",
              "      <th>75%</th>\n",
              "      <th>max</th>\n",
              "    </tr>\n",
              "    <tr>\n",
              "      <th>type</th>\n",
              "      <th></th>\n",
              "      <th></th>\n",
              "      <th></th>\n",
              "      <th></th>\n",
              "      <th></th>\n",
              "      <th></th>\n",
              "      <th></th>\n",
              "      <th></th>\n",
              "      <th></th>\n",
              "      <th></th>\n",
              "      <th></th>\n",
              "      <th></th>\n",
              "      <th></th>\n",
              "      <th></th>\n",
              "      <th></th>\n",
              "      <th></th>\n",
              "      <th></th>\n",
              "      <th></th>\n",
              "      <th></th>\n",
              "      <th></th>\n",
              "      <th></th>\n",
              "    </tr>\n",
              "  </thead>\n",
              "  <tbody>\n",
              "    <tr>\n",
              "      <th>conventional</th>\n",
              "      <td>9126.0</td>\n",
              "      <td>1.158040</td>\n",
              "      <td>0.263041</td>\n",
              "      <td>0.46</td>\n",
              "      <td>0.98</td>\n",
              "      <td>1.13</td>\n",
              "      <td>1.32</td>\n",
              "      <td>2.22</td>\n",
              "      <td>9126.0</td>\n",
              "      <td>1.653213e+06</td>\n",
              "      <td>...</td>\n",
              "      <td>2409.215</td>\n",
              "      <td>551693.65</td>\n",
              "      <td>9126.0</td>\n",
              "      <td>2016.147929</td>\n",
              "      <td>0.939968</td>\n",
              "      <td>2015.0</td>\n",
              "      <td>2015.0</td>\n",
              "      <td>2016.0</td>\n",
              "      <td>2017.0</td>\n",
              "      <td>2018.0</td>\n",
              "    </tr>\n",
              "    <tr>\n",
              "      <th>organic</th>\n",
              "      <td>9123.0</td>\n",
              "      <td>1.653999</td>\n",
              "      <td>0.363502</td>\n",
              "      <td>0.44</td>\n",
              "      <td>1.42</td>\n",
              "      <td>1.63</td>\n",
              "      <td>1.87</td>\n",
              "      <td>3.25</td>\n",
              "      <td>9123.0</td>\n",
              "      <td>4.781121e+04</td>\n",
              "      <td>...</td>\n",
              "      <td>0.000</td>\n",
              "      <td>510.41</td>\n",
              "      <td>9123.0</td>\n",
              "      <td>2016.147868</td>\n",
              "      <td>0.939961</td>\n",
              "      <td>2015.0</td>\n",
              "      <td>2015.0</td>\n",
              "      <td>2016.0</td>\n",
              "      <td>2017.0</td>\n",
              "      <td>2018.0</td>\n",
              "    </tr>\n",
              "  </tbody>\n",
              "</table>\n",
              "<p>2 rows × 80 columns</p>\n",
              "</div>"
            ],
            "text/plain": [
              "             AveragePrice                                                    \\\n",
              "                    count      mean       std   min   25%   50%   75%   max   \n",
              "type                                                                          \n",
              "conventional       9126.0  1.158040  0.263041  0.46  0.98  1.13  1.32  2.22   \n",
              "organic            9123.0  1.653999  0.363502  0.44  1.42  1.63  1.87  3.25   \n",
              "\n",
              "             Total Volume                ... XLarge Bags               year  \\\n",
              "                    count          mean  ...         75%        max   count   \n",
              "type                                     ...                                  \n",
              "conventional       9126.0  1.653213e+06  ...    2409.215  551693.65  9126.0   \n",
              "organic            9123.0  4.781121e+04  ...       0.000     510.41  9123.0   \n",
              "\n",
              "                                                                             \n",
              "                     mean       std     min     25%     50%     75%     max  \n",
              "type                                                                         \n",
              "conventional  2016.147929  0.939968  2015.0  2015.0  2016.0  2017.0  2018.0  \n",
              "organic       2016.147868  0.939961  2015.0  2015.0  2016.0  2017.0  2018.0  \n",
              "\n",
              "[2 rows x 80 columns]"
            ]
          },
          "execution_count": 30,
          "metadata": {},
          "output_type": "execute_result"
        }
      ],
      "source": [
        "# Display the descriptive statistics grouped by 'type'\n",
        "\n",
        "data.groupby('type').describe()"
      ]
    },
    {
      "cell_type": "code",
      "execution_count": null,
      "metadata": {
        "id": "8QUeETs7cOX-",
        "outputId": "5af76235-9c66-4911-ef4b-cfe019521bd2"
      },
      "outputs": [
        {
          "data": {
            "text/html": [
              "<div>\n",
              "<style scoped>\n",
              "    .dataframe tbody tr th:only-of-type {\n",
              "        vertical-align: middle;\n",
              "    }\n",
              "\n",
              "    .dataframe tbody tr th {\n",
              "        vertical-align: top;\n",
              "    }\n",
              "\n",
              "    .dataframe thead th {\n",
              "        text-align: right;\n",
              "    }\n",
              "</style>\n",
              "<table border=\"1\" class=\"dataframe\">\n",
              "  <thead>\n",
              "    <tr style=\"text-align: right;\">\n",
              "      <th></th>\n",
              "      <th>count</th>\n",
              "      <th>mean</th>\n",
              "      <th>std</th>\n",
              "      <th>min</th>\n",
              "      <th>25%</th>\n",
              "      <th>50%</th>\n",
              "      <th>75%</th>\n",
              "      <th>max</th>\n",
              "    </tr>\n",
              "    <tr>\n",
              "      <th>type</th>\n",
              "      <th></th>\n",
              "      <th></th>\n",
              "      <th></th>\n",
              "      <th></th>\n",
              "      <th></th>\n",
              "      <th></th>\n",
              "      <th></th>\n",
              "      <th></th>\n",
              "    </tr>\n",
              "  </thead>\n",
              "  <tbody>\n",
              "    <tr>\n",
              "      <th>conventional</th>\n",
              "      <td>9126.0</td>\n",
              "      <td>1.158040</td>\n",
              "      <td>0.263041</td>\n",
              "      <td>0.46</td>\n",
              "      <td>0.98</td>\n",
              "      <td>1.13</td>\n",
              "      <td>1.32</td>\n",
              "      <td>2.22</td>\n",
              "    </tr>\n",
              "    <tr>\n",
              "      <th>organic</th>\n",
              "      <td>9123.0</td>\n",
              "      <td>1.653999</td>\n",
              "      <td>0.363502</td>\n",
              "      <td>0.44</td>\n",
              "      <td>1.42</td>\n",
              "      <td>1.63</td>\n",
              "      <td>1.87</td>\n",
              "      <td>3.25</td>\n",
              "    </tr>\n",
              "  </tbody>\n",
              "</table>\n",
              "</div>"
            ],
            "text/plain": [
              "               count      mean       std   min   25%   50%   75%   max\n",
              "type                                                                  \n",
              "conventional  9126.0  1.158040  0.263041  0.46  0.98  1.13  1.32  2.22\n",
              "organic       9123.0  1.653999  0.363502  0.44  1.42  1.63  1.87  3.25"
            ]
          },
          "execution_count": 31,
          "metadata": {},
          "output_type": "execute_result"
        }
      ],
      "source": [
        "# Display the descriptive statistics for 'AveragePrice' grouped by 'type'\n",
        "\n",
        "data_by_type = data.groupby('type')\n",
        "data_by_type['AveragePrice'].describe()"
      ]
    },
    {
      "cell_type": "code",
      "execution_count": null,
      "metadata": {
        "_uuid": "b494a7e64f27ab4bf317881c31f80c245454d79e",
        "id": "S2zP4WNUcOX_",
        "outputId": "b8b54c35-fdde-4276-cb7d-df9f39bd57c9"
      },
      "outputs": [
        {
          "data": {
            "text/plain": [
              "type\n",
              "conventional    1.158040\n",
              "organic         1.653999\n",
              "Name: AveragePrice, dtype: float64"
            ]
          },
          "execution_count": 33,
          "metadata": {},
          "output_type": "execute_result"
        }
      ],
      "source": [
        "# Compare the mean of AveragePrice between different types?\n",
        "\n",
        "data['AveragePrice'].groupby(data['type']).mean()"
      ]
    },
    {
      "cell_type": "code",
      "execution_count": null,
      "metadata": {
        "_uuid": "a5e93714ae6160f67d209300d33e79a9df26d0ff",
        "id": "BnFkNBl9cOX_",
        "outputId": "7ca25b3e-9eb5-4b49-8624-7535c4ca4bdc"
      },
      "outputs": [
        {
          "data": {
            "image/png": "[encoded data removed]",
            "text/plain": [
              "<Figure size 400x400 with 1 Axes>"
            ]
          },
          "metadata": {},
          "output_type": "display_data"
        }
      ],
      "source": [
        "# Show the distribution of the average prices using Histogram? (Hint: use bins = 30)\n",
        "\n",
        "data.hist(column = 'AveragePrice', bins = 30, figsize = (4,4))\n",
        "plt.xlabel('Price')\n",
        "plt.ylabel('Count')\n",
        "plt.title('Distribution of avocado average prices')\n",
        "plt.show()"
      ]
    },
    {
      "cell_type": "code",
      "execution_count": null,
      "metadata": {
        "_uuid": "e68a3f88e54578fe1319c33b265850a96fef03ae",
        "scrolled": true,
        "id": "hZCoYN0UcOX_",
        "outputId": "e38764ed-6f98-470a-884f-56cd1d215fe3"
      },
      "outputs": [
        {
          "data": {
            "text/plain": [
              "<Figure size 500x500 with 0 Axes>"
            ]
          },
          "metadata": {},
          "output_type": "display_data"
        },
        {
          "data": {
            "image/png": "[encoded data removed]",
            "text/plain": [
              "<Figure size 500x500 with 1 Axes>"
            ]
          },
          "metadata": {},
          "output_type": "display_data"
        }
      ],
      "source": [
        "# Use a seaborn to create distribution plot of 'AveragePrice'\n",
        "\n",
        "plt.figure(figsize=(5,5))\n",
        "ax = sns.displot(data[\"AveragePrice\"], color = 'b')\n",
        "plt.title(\"Distribution of avocado average price\")\n",
        "plt.show()\n",
        "\n"
      ]
    },
    {
      "cell_type": "markdown",
      "metadata": {
        "_uuid": "5b98b510e4007e204a3bcfc88a6d65d98c581add",
        "id": "fmioYuPEcOYA"
      },
      "source": [
        "If we observe the distribution closely, it seems that we have two peaks in our distribution. Could this be due to different avocado types?"
      ]
    },
    {
      "cell_type": "code",
      "execution_count": null,
      "metadata": {
        "_uuid": "4e47cbb4f54f48d7325cc8e81451262c0fda2048",
        "scrolled": true,
        "id": "kLRMAqdGcOYA",
        "outputId": "9380361c-b36b-488e-c55c-dc22cc080dba"
      },
      "outputs": [
        {
          "data": {
            "image/png": "[encoded data removed]",
            "text/plain": [
              "<Figure size 1500x400 with 1 Axes>"
            ]
          },
          "metadata": {},
          "output_type": "display_data"
        }
      ],
      "source": [
        "# Can we overlay the distribution of average price grouped by type?\n",
        "#Hint: plot two distribution plot using seaborn for each type in a single figure\n",
        "\n",
        "#set figure size\n",
        "plt.figure(figsize=(15,4))\n",
        "\n",
        "# Plot the distribution of conventional type data\n",
        "sns.histplot(data[\"AveragePrice\"][data['type'] == 'conventional'], color = 'r', label = 'conventional')\n",
        "sns.histplot(data[\"AveragePrice\"][data['type'] == 'organic'], color = 'g', label = 'organic')\n",
        "\n",
        "# add legend, show the graphics\n",
        "plt.legend()\n",
        "plt.grid()\n",
        "plt.title(\"Distribution of average price grouped by type\")\n",
        "plt.show()"
      ]
    },
    {
      "cell_type": "code",
      "execution_count": null,
      "metadata": {
        "_uuid": "06ddecafe9ba6079d328efacfdbcf2a529c8931f",
        "id": "_La52-wccOYA",
        "outputId": "7e72355d-5ad9-4373-a39b-8677953102a5"
      },
      "outputs": [
        {
          "data": {
            "image/png": "[encoded data removed]",
            "text/plain": [
              "<Figure size 800x600 with 1 Axes>"
            ]
          },
          "metadata": {},
          "output_type": "display_data"
        }
      ],
      "source": [
        "# Make a boxplot graph using pandas or seaborn to compare 'Avrage Price' by 'type'\n",
        "\n",
        "#boxplot using pandas\n",
        "data.boxplot(column = 'AveragePrice', by = 'type', figsize = (8,6))\n",
        "plt.show()"
      ]
    },
    {
      "cell_type": "code",
      "execution_count": null,
      "metadata": {
        "_uuid": "421f5c69fd3b743f822e16501453a4ff1db0d544",
        "id": "moVklTsqcOYA",
        "outputId": "f306b9d3-61eb-4ca4-8d01-5d5bec54e9b2"
      },
      "outputs": [
        {
          "data": {
            "image/png": "[encoded data removed]",
            "text/plain": [
              "<Figure size 1200x500 with 1 Axes>"
            ]
          },
          "metadata": {},
          "output_type": "display_data"
        }
      ],
      "source": [
        "# boxplot with seaborn\n",
        "\n",
        "plt.figure(figsize=(12,5))\n",
        "sns.boxplot(y = \"type\", x = \"AveragePrice\", data = data)\n",
        "plt.xlim([0, 4])\n",
        "plt.show()"
      ]
    },
    {
      "cell_type": "code",
      "execution_count": null,
      "metadata": {
        "id": "h8GFUCrFcOYB"
      },
      "outputs": [],
      "source": []
    }
  ],
  "metadata": {
    "kernelspec": {
      "display_name": "Python 3 (ipykernel)",
      "language": "python",
      "name": "python3"
    },
    "language_info": {
      "codemirror_mode": {
        "name": "ipython",
        "version": 3
      },
      "file_extension": ".py",
      "mimetype": "text/x-python",
      "name": "python",
      "nbconvert_exporter": "python",
      "pygments_lexer": "ipython3",
      "version": "3.9.13"
    },
    "vscode": {
      "interpreter": {
        "hash": "916dbcbb3f70747c44a77c7bcd40155683ae19c65e1c03b4aa3499c5328201f1"
      }
    },
    "colab": {
      "provenance": [],
      "include_colab_link": true
    }
  },
  "nbformat": 4,
  "nbformat_minor": 0
}